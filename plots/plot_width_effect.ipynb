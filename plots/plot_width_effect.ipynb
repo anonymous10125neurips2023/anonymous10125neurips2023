{
 "cells": [
  {
   "cell_type": "code",
   "execution_count": 1,
   "metadata": {},
   "outputs": [],
   "source": [
    "import numpy as np\n",
    "import matplotlib.pyplot as plt\n",
    "import os \n",
    "import glob \n",
    "import pandas as pd\n",
    "import seaborn as sns"
   ]
  },
  {
   "cell_type": "code",
   "execution_count": 3,
   "metadata": {},
   "outputs": [
    {
     "name": "stdout",
     "output_type": "stream",
     "text": [
      "(4, 3, 4)\n",
      "    width            cands           mu        std\n",
      "0   ind=0      1. NeuraLCB    33.543330   1.843439\n",
      "1   ind=1      1. NeuraLCB   124.968988   3.169119\n",
      "2   ind=2      1. NeuraLCB   476.506479   7.809151\n",
      "3   ind=3      1. NeuraLCB  3003.578659   8.332902\n",
      "4   ind=0      2. NeuralTS    35.603394   2.567020\n",
      "5   ind=1      2. NeuralTS   123.711264   3.376607\n",
      "6   ind=2      2. NeuralTS   473.722461   6.165894\n",
      "7   ind=3      2. NeuralTS  3002.639381  10.858014\n",
      "8   ind=0  3. Neural-PELPS     0.013522   0.001967\n",
      "9   ind=1  3. Neural-PELPS     0.010412   0.000867\n",
      "10  ind=2  3. Neural-PELPS     0.011260   0.002472\n",
      "11  ind=3  3. Neural-PELPS     0.010828   0.000735\n"
     ]
    },
    {
     "data": {
      "image/png": "[encoded data removed]",
      "text/plain": [
       "<Figure size 360x216 with 1 Axes>"
      ]
     },
     "metadata": {},
     "output_type": "display_data"
    }
   ],
   "source": [
    "data = 'quadratic'\n",
    "result_path = os.path.join('/results/width-effect-results/')\n",
    "algos = [ 'NeuraLCB', 'NeuralTS', 'NeuraLMC'] \n",
    "algos_labels = [ '1. NeuraLCB', '2. NeuralTS', '3. Neural-PELPS']\n",
    "\n",
    "hidden_sizes = [16, 32, 64, 128]\n",
    "\n",
    "T = 5 # -1\n",
    "n = 4\n",
    "xtickers = ['m={}'.format(m) for m in hidden_sizes]\n",
    "\n",
    "res_per_hidden = [] # (h, algo, trial)\n",
    "# data_frs = []\n",
    "agg_data = []\n",
    "for j,hidden_size in enumerate(hidden_sizes): \n",
    "    res_per_algo = []\n",
    "    agg_data_per_algo = []\n",
    "    for k, algo in enumerate(algos): \n",
    "        data_path = os.path.join(result_path, 'width={}'.format(hidden_size),data, algo)\n",
    "        data_per_trial = []\n",
    "        for trial in range(n):\n",
    "            tmp = np.load(os.path.join(data_path, 'trial={}.npz'.format(trial)))['arr_2'][:,1][T]\n",
    "            data_per_trial.append(tmp)\n",
    "        res_per_algo.append( data_per_trial)\n",
    " \n",
    "        # data_frs.append([hidden_size, algos_labels[k], tmp[T]])\n",
    "        agg_data_per_algo.append(np.mean(np.array(data_per_trial))) \n",
    "\n",
    "    res_per_hidden.append(res_per_algo) \n",
    "    agg_data.append(agg_data_per_algo)\n",
    "\n",
    "res_per_hidden = np.array(res_per_hidden) # (h, algo,t)\n",
    "\n",
    "print(res_per_hidden.shape)\n",
    "\n",
    "mu = np.mean(res_per_hidden, axis=-1).T.ravel() # (h, a) \n",
    "std = np.std(res_per_hidden, axis=-1).T.ravel() / np.sqrt(res_per_hidden.shape[-1]) # (h,a)\n",
    "\n",
    "n_groups = len(hidden_sizes)\n",
    "n_cands = len(algos) \n",
    "group = ['ind={}'.format(m) for  i in range(n_cands) for m in range(len(hidden_sizes))]\n",
    "cands = [a for a in algos_labels for i in range(n_groups)]\n",
    "# print(group)\n",
    "# print(cands)\n",
    "# print(mu)\n",
    "# print(std)\n",
    "\n",
    "data = {'width': group,\n",
    "        'cands': cands,\n",
    "        'mu': mu,\n",
    "        'std': std}\n",
    "df = pd.DataFrame(data)\n",
    "\n",
    "print(df)\n",
    "\n",
    "vals = df.pivot(index='width', columns='cands', values='mu')\n",
    "yerr = df.pivot(index='width', columns='cands', values='std')\n",
    "\n",
    "plt.style.use('seaborn')\n",
    "# fig = plt.figure(figsize=(6, 4))\n",
    "\n",
    "# plot vals with yerr\n",
    "ax = vals.plot(kind='bar', yerr=yerr, logy=False, figsize=(5, 3), rot=0, width=0.8,\\\n",
    "    sort_columns=True, fontsize=14)\n",
    "_ = ax.legend(title='Algorithms', loc='upper left', edgecolor='black', fontsize=12, \\\n",
    "    title_fontsize=15,fancybox=True, frameon=True)\n",
    "\n",
    "ax.set_xticklabels(xtickers)\n",
    "ax.set_yticklabels([])\n",
    "\n",
    "# ax.set_yticks(np.array([500 * i for i in range(10)]))\n",
    "# ax.set_yticklabels(np.arange(0, 10, 1000))\n",
    "\n",
    "\n",
    "for i in range(len(hidden_sizes)): \n",
    "    for j in range(len(algos)):\n",
    "        if j < 2:\n",
    "            ax.text( -0.35 + j*0.36 + i , int(agg_data[i][j]) + 50 , round(agg_data[i][j]), color='black', ha='center', fontsize=9)\n",
    "        else:\n",
    "            ax.text( -0.35 + j*0.36 + i , int(agg_data[i][j]) + 50 , round(agg_data[i][j], 2), color='black', ha='center', fontsize=9)\n",
    "        \n",
    "\n",
    "ax.set_ylabel('Action selection time (s)', fontsize=14)\n",
    "ax.set_xlabel('Width', fontsize=14)\n",
    "\n",
    "ax.grid(axis='x')\n",
    "\n",
    "\n",
    "\n",
    "# plt.gca().invert_xaxis()\n",
    "\n",
    "# _ = ax.legend(title='Sample Set', bbox_to_anchor=(1, 1.02), loc='upper left')\n",
    "\n"
   ]
  },
  {
   "cell_type": "code",
   "execution_count": 4,
   "metadata": {},
   "outputs": [],
   "source": [
    "fname = os.path.join(result_path, 'action_select_time_neurips.png')\n",
    "ax.figure.savefig(fname, bbox_inches='tight', dpi=400)"
   ]
  }
 ],
 "metadata": {
  "kernelspec": {
   "display_name": "Python 3.9.12 ('venv')",
   "language": "python",
   "name": "python3"
  },
  "language_info": {
   "codemirror_mode": {
    "name": "ipython",
    "version": 3
   },
   "file_extension": ".py",
   "mimetype": "text/x-python",
   "name": "python",
   "nbconvert_exporter": "python",
   "pygments_lexer": "ipython3",
   "version": "3.9.12"
  },
  "orig_nbformat": 4,
  "vscode": {
   "interpreter": {
    "hash": "cf155ea7873fa76cf4d2709f415475ad30d3f8dd7e6ecb302d8ace816f0c7efb"
   }
  }
 },
 "nbformat": 4,
 "nbformat_minor": 2
}
